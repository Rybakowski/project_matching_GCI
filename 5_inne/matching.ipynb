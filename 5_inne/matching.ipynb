{
 "cells": [
  {
   "cell_type": "code",
   "execution_count": 3,
   "metadata": {},
   "outputs": [
    {
     "ename": "ModuleNotFoundError",
     "evalue": "No module named 'causaldata'",
     "output_type": "error",
     "traceback": [
      "\u001b[1;31m---------------------------------------------------------------------------\u001b[0m",
      "\u001b[1;31mModuleNotFoundError\u001b[0m                       Traceback (most recent call last)",
      "\u001b[1;32mc:\\Users\\rados\\OneDrive - SGH\\Nowy_projekt_BNK\\matching.ipynb Cell 1\u001b[0m line \u001b[0;36m6\n\u001b[0;32m      <a href='vscode-notebook-cell:/c%3A/Users/rados/OneDrive%20-%20SGH/Nowy_projekt_BNK/matching.ipynb#W0sZmlsZQ%3D%3D?line=2'>3</a>\u001b[0m \u001b[39m# The more-popular matching tools in sklearn\u001b[39;00m\n\u001b[0;32m      <a href='vscode-notebook-cell:/c%3A/Users/rados/OneDrive%20-%20SGH/Nowy_projekt_BNK/matching.ipynb#W0sZmlsZQ%3D%3D?line=3'>4</a>\u001b[0m \u001b[39m# are more geared towards machine learning than statistical inference\u001b[39;00m\n\u001b[0;32m      <a href='vscode-notebook-cell:/c%3A/Users/rados/OneDrive%20-%20SGH/Nowy_projekt_BNK/matching.ipynb#W0sZmlsZQ%3D%3D?line=4'>5</a>\u001b[0m \u001b[39mfrom\u001b[39;00m \u001b[39mcausalinference\u001b[39;00m\u001b[39m.\u001b[39;00m\u001b[39mcausal\u001b[39;00m \u001b[39mimport\u001b[39;00m CausalModel\n\u001b[1;32m----> <a href='vscode-notebook-cell:/c%3A/Users/rados/OneDrive%20-%20SGH/Nowy_projekt_BNK/matching.ipynb#W0sZmlsZQ%3D%3D?line=5'>6</a>\u001b[0m \u001b[39mfrom\u001b[39;00m \u001b[39mcausaldata\u001b[39;00m \u001b[39mimport\u001b[39;00m black_politicians\n\u001b[0;32m      <a href='vscode-notebook-cell:/c%3A/Users/rados/OneDrive%20-%20SGH/Nowy_projekt_BNK/matching.ipynb#W0sZmlsZQ%3D%3D?line=6'>7</a>\u001b[0m br \u001b[39m=\u001b[39m black_politicians\u001b[39m.\u001b[39mload_pandas()\u001b[39m.\u001b[39mdata\n\u001b[0;32m      <a href='vscode-notebook-cell:/c%3A/Users/rados/OneDrive%20-%20SGH/Nowy_projekt_BNK/matching.ipynb#W0sZmlsZQ%3D%3D?line=8'>9</a>\u001b[0m \u001b[39m# Get our outcome, treatment, and matching variables\u001b[39;00m\n\u001b[0;32m     <a href='vscode-notebook-cell:/c%3A/Users/rados/OneDrive%20-%20SGH/Nowy_projekt_BNK/matching.ipynb#W0sZmlsZQ%3D%3D?line=9'>10</a>\u001b[0m \u001b[39m# We need these as numpy arrays\u001b[39;00m\n",
      "\u001b[1;31mModuleNotFoundError\u001b[0m: No module named 'causaldata'"
     ]
    }
   ],
   "source": [
    "\n",
    "import pandas as pd\n",
    "import numpy as np\n",
    "# The more-popular matching tools in sklearn\n",
    "# are more geared towards machine learning than statistical inference\n",
    "from causalinference.causal import CausalModel\n",
    "from causaldata import black_politicians\n",
    "br = black_politicians.load_pandas().data\n",
    "\n",
    "# Get our outcome, treatment, and matching variables\n",
    "# We need these as numpy arrays\n",
    "Y = br['responded'].to_numpy()\n",
    "D = br['leg_black'].to_numpy()\n",
    "X = br[['medianhhincom', 'blackpercent', 'leg_democrat']].to_numpy()\n",
    "\n",
    "# Set up our model\n",
    "M = CausalModel(Y, D, X)\n",
    "\n",
    "# Fit, using Mahalanobis distance\n",
    "M.est_via_matching(weights = 'maha', matches = 1)\n",
    "\n",
    "print(M.estimates)\n",
    "# Note it automatically calcultes average treatments on\n",
    "# average, on treated, and on untreated/control (ATC)"
   ]
  },
  {
   "cell_type": "code",
   "execution_count": null,
   "metadata": {},
   "outputs": [],
   "source": []
  }
 ],
 "metadata": {
  "kernelspec": {
   "display_name": "Python 3",
   "language": "python",
   "name": "python3"
  },
  "language_info": {
   "codemirror_mode": {
    "name": "ipython",
    "version": 3
   },
   "file_extension": ".py",
   "mimetype": "text/x-python",
   "name": "python",
   "nbconvert_exporter": "python",
   "pygments_lexer": "ipython3",
   "version": "3.10.2"
  }
 },
 "nbformat": 4,
 "nbformat_minor": 2
}
